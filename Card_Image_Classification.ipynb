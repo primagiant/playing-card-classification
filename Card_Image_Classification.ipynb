{
  "cells": [
    {
      "cell_type": "markdown",
      "metadata": {
        "id": "view-in-github",
        "colab_type": "text"
      },
      "source": [
        "<a href=\"https://colab.research.google.com/github/primagiant/playing-card-classification/blob/main/Card_Image_Classification.ipynb\" target=\"_parent\"><img src=\"https://colab.research.google.com/assets/colab-badge.svg\" alt=\"Open In Colab\"/></a>"
      ]
    },
    {
      "cell_type": "code",
      "source": [
        "# Import libraries\n",
        "import torch\n",
        "import torchvision\n",
        "import torchvision.transforms as transforms\n",
        "import numpy as np\n",
        "import matplotlib.pyplot as plt"
      ],
      "metadata": {
        "id": "bRNx2MVS6D2z"
      },
      "execution_count": null,
      "outputs": []
    },
    {
      "cell_type": "code",
      "source": [
        "# Load and preprocess data\n",
        "transform = transforms.Compose(\n",
        "    [transforms.Resize((200, 200)), # resize images to 200x200\n",
        "     transforms.ToTensor(), # convert images to tensors\n",
        "     transforms.Normalize((0.5, 0.5, 0.5), (0.5, 0.5, 0.5))]) # normalize pixel values\n",
        "\n",
        "batch_size = 4\n",
        "\n",
        "trainset = torchvision.datasets.ImageFolder(root='cards-image-datasetclassification/14card types-14-(200 X 200)-94.61/train', transform=transform) # load training images from folder\n",
        "trainloader = torch.utils.data.DataLoader(trainset, batch_size=batch_size, shuffle=True, num_workers=2) # create data loader for training set\n",
        "\n",
        "testset = torchvision.datasets.ImageFolder(root='cards-image-datasetclassification/14card types-14-(200 X 200)-94.61/test', transform=transform) # load test images from folder\n",
        "testloader = torch.utils.data.DataLoader(testset, batch_size=batch_size, shuffle=False, num_workers=2) # create data loader for test set\n",
        "\n",
        "classes = ('ace', 'jack', 'king', 'queen', 'ten', 'two', 'three', 'four', 'five', 'six', 'seven', 'eight', 'nine', 'joker') # define class names"
      ],
      "metadata": {
        "id": "AKKbrPGV6LKS"
      },
      "execution_count": null,
      "outputs": []
    },
    {
      "cell_type": "code",
      "source": [
        "# Define model\n",
        "model = torch.nn.Sequential(\n",
        "    torch.nn.Conv2d(3, 32, 3), # convolution layer with 3 input channels and 32 output channels\n",
        "    torch.nn.BatchNorm2d(32), # batch normalization layer\n",
        "    torch.nn.ReLU(), # activation layer\n",
        "    torch.nn.Conv2d(32, 64, 3), # convolution layer with 32 input channels and 64 output channels\n",
        "    torch.nn.BatchNorm2d(64), # batch normalization layer\n",
        "    torch.nn.ReLU(), # activation layer\n",
        "    torch.nn.MaxPool2d(2), # max pooling layer with kernel size of 2\n",
        "    torch.nn.Conv2d(64, 128, 3), # convolution layer with 64 input channels and 128 output channels\n",
        "    torch.nn.BatchNorm2d(128), # batch normalization layer\n",
        "    torch.nn.ReLU(), # activation layer\n",
        "    torch.nn.Conv2d(128, 256, 3), # convolution layer with 128 input channels and 256 output channels\n",
        "    torch.nn.BatchNorm2d(256), # batch normalization layer\n",
        "    torch.nn.ReLU(), # activation layer\n",
        "    torch.nn.Flatten(), # flatten layer to convert 4D tensor to 2D tensor\n",
        "    torch.nn.Linear(256 * 47 * 47, 14) # linear layer with 256 * 47 * 47 input features and 14 output features\n",
        ")"
      ],
      "metadata": {
        "id": "g7lqFTge6X0F"
      },
      "execution_count": null,
      "outputs": []
    },
    {
      "cell_type": "code",
      "source": [
        "# Define optimizer and loss function\n",
        "optimizer = torch.optim.Adam(model.parameters(), lr=0.001) # use Adam optimizer with learning rate of 0.001\n",
        "criterion = torch.nn.CrossEntropyLoss() # use cross entropy loss for multi-class classification"
      ],
      "metadata": {
        "id": "VndCJBBc6fvI"
      },
      "execution_count": null,
      "outputs": []
    },
    {
      "cell_type": "code",
      "source": [
        "# Train model\n",
        "num_epochs = 20 # number of epochs to train the model\n",
        "for epoch in range(num_epochs):\n",
        "    running_loss = 0.0 # initialize running loss to zero\n",
        "    for i, data in enumerate(trainloader, 0): # loop over the training data loader\n",
        "        inputs, labels = data # get the inputs and labels from the data loader\n",
        "        optimizer.zero_grad() # zero the parameter gradients\n",
        "        outputs = model(inputs) # forward pass: compute the outputs by passing inputs to the model\n",
        "        loss = criterion(outputs, labels) # compute the loss using the outputs and labels\n",
        "        loss.backward() # backward pass: compute the gradients of the loss with respect to model parameters\n",
        "        optimizer.step() # update the model parameters using the gradients and optimizer\n",
        "\n",
        "        running_loss += loss.item() # add the loss to the running loss\n",
        "        if i % 2000 == 1999: # print statistics every 2000 mini-batches\n",
        "            print('[%d, %5d] loss: %.3f' %\n",
        "                  (epoch + 1, i + 1, running_loss / 2000))\n",
        "            running_loss = 0.0\n",
        "\n",
        "print('Finished Training')"
      ],
      "metadata": {
        "id": "Bg3dXNA96h17"
      },
      "execution_count": null,
      "outputs": []
    },
    {
      "cell_type": "code",
      "source": [
        "# Save model\n",
        "torch.save(model.state_dict(), 'model.pth') # save the model state dictionary to a file"
      ],
      "metadata": {
        "id": "YIIgp8iz6iid"
      },
      "execution_count": null,
      "outputs": []
    },
    {
      "cell_type": "code",
      "source": [
        "# Evaluate model\n",
        "correct = 0 # initialize number of correct predictions to zero\n",
        "total = 0 # initialize total number of predictions to zero\n",
        "with torch.no_grad(): # disable gradient computation\n",
        "    for data in testloader: # loop over the test data loader\n",
        "        images, labels = data # get the images and labels from the data loader\n",
        "        outputs = model(images) # forward pass: compute the outputs by passing images to the model\n",
        "        _, predicted = torch.max(outputs.data, 1) # get the predicted class by finding the maximum value in the output tensor along dimension 1\n",
        "        total += labels.size(0) # update the total number of predictions by adding the batch size\n",
        "        correct += (predicted == labels).sum().item() # update the number of correct predictions by counting how many predictions match the labels\n",
        "\n",
        "print('Accuracy of the network on the test images: %d %%' % (\n",
        "    100 * correct / total)) # print the accuracy by dividing correct by total and multiplying by 100"
      ],
      "metadata": {
        "id": "Hn4hikmk6cX6"
      },
      "execution_count": null,
      "outputs": []
    }
  ],
  "metadata": {
    "colab": {
      "provenance": [],
      "authorship_tag": "ABX9TyNm0SShVMYMWz6RagdfPCoz",
      "include_colab_link": true
    },
    "kernelspec": {
      "display_name": "Python 3",
      "name": "python3"
    },
    "language_info": {
      "name": "python"
    }
  },
  "nbformat": 4,
  "nbformat_minor": 0
}